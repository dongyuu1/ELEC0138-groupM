{
 "cells": [
  {
   "cell_type": "code",
   "execution_count": null,
   "id": "57c82b14",
   "metadata": {},
   "outputs": [],
   "source": [
    "import pandas as pd\n",
    "import numpy as np\n",
    "import csv\n",
    "import re"
   ]
  },
  {
   "cell_type": "code",
   "execution_count": null,
   "id": "d2a7d791-4731-4ea1-b802-085cf2674e45",
   "metadata": {},
   "outputs": [],
   "source": [
    "df=pd.read_csv('Parking_Bays_20240222.csv',header=0)"
   ]
  },
  {
   "cell_type": "code",
   "execution_count": null,
   "id": "d1bd5a90-cea6-4229-8d6e-ff4e5c13b1c0",
   "metadata": {
    "tags": []
   },
   "outputs": [],
   "source": [
    "# 1) Print all headers\n",
    "col_ind = [(i, col) for i, col in enumerate(df.columns.to_list())]\n",
    "print(col_ind)"
   ]
  },
  {
   "cell_type": "code",
   "execution_count": null,
   "id": "81f78d93-8fe2-4792-b2bc-fe1bac7da0d8",
   "metadata": {
    "tags": []
   },
   "outputs": [],
   "source": [
    "# 2) Drop all columns unnecessary columns: ['Times Of Operations'], ['Maximum Stay'], ['Cashless Identifier'], ['Nearest Machine'], [9:]\n",
    "df1 = df.iloc[:,[0,1,4,7,8,21]]"
   ]
  },
  {
   "cell_type": "code",
   "execution_count": null,
   "id": "cee9a4b3-f120-4ae9-ba24-df34cb8ffd8f",
   "metadata": {
    "collapsed": true,
    "jupyter": {
     "outputs_hidden": true
    },
    "tags": []
   },
   "outputs": [],
   "source": [
    "# 3) Print all unique values in 'Restriction Type' \n",
    "header_names_filt = df1['Restriction Type'].unique()\n",
    "print(header_names_filt)"
   ]
  },
  {
   "cell_type": "code",
   "execution_count": null,
   "id": "46297469-4724-48fd-984a-dd450f60172d",
   "metadata": {
    "tags": []
   },
   "outputs": [],
   "source": [
    "# 4) Drop all rows corresponding to unpaid parking\n",
    "df2 = df1[df['Restriction Type'].str.contains('paid')]\n",
    "print('There are',df2.shape[0],' paid, parking spaces in Camden')\n",
    "print(df2['Tariff'].unique())"
   ]
  },
  {
   "cell_type": "code",
   "execution_count": null,
   "id": "3d1dd1b5-73c9-4a99-ba6e-204872e48c4b",
   "metadata": {
    "tags": []
   },
   "outputs": [],
   "source": [
    "# 5) Split ['Tariff'] into ['Petrol Tariff'] and ['Diesel Tariff'], splitting at the '/'\n",
    "df2[['Non-diesel Tariff', 'Diesel Tariff']] = df2['Tariff'].str.split('/', expand=True)\n",
    "col_ind1 = [(i, col) for i, col in enumerate(df2.columns.to_list())]\n",
    "print(col_ind1)"
   ]
  },
  {
   "cell_type": "code",
   "execution_count": null,
   "id": "e17f86fd-a148-4fb2-8162-b69e49a28713",
   "metadata": {
    "collapsed": true,
    "jupyter": {
     "outputs_hidden": true
    },
    "tags": []
   },
   "outputs": [],
   "source": [
    "# 6) Drop ['Tariff']\n",
    "df3 = df2.iloc[:,[0, 1, 3, 4, 5, 6, 7]]\n",
    "print(df3)"
   ]
  },
  {
   "cell_type": "code",
   "execution_count": null,
   "id": "7e3b2d3b",
   "metadata": {},
   "outputs": [],
   "source": [
    "# 7) The value '£8.39 p.h. (buses and coaches)' exists, and has left blanks in ['Diesel Tariff'], copy the value over to ['Petrol Tariff']\n",
    "df3['Diesel Tariff'].fillna('£8.39 (diesel)', inplace=True)\n",
    "\n",
    "# 8) Remove excess text and clear blank-spaces from ['Petrol Tariff'] and ['Diesel Tariff'] so just numbers remain\n",
    "def keep_numeric(text):\n",
    "    cleaned_text = ''\n",
    "    decimal_point_seen = False\n",
    "    for char in text:\n",
    "        if char.isdigit():\n",
    "            cleaned_text += char\n",
    "        elif char == '.' and not decimal_point_seen:\n",
    "            cleaned_text += char\n",
    "            decimal_point_seen = True\n",
    "    return cleaned_text\n",
    "df3[['Non-diesel Tariff', 'Diesel Tariff']] = df3[['Non-diesel Tariff', 'Diesel Tariff']].apply(lambda x: x.str.strip())\n",
    "\n",
    "# 9) Convert ['Petrol Tariff'] and ['Diesel Tariff'] data types to float\n",
    "df3[['Non-diesel Tariff', 'Diesel Tariff']] = df3[['Non-diesel Tariff', 'Diesel Tariff']].apply(lambda x: x.apply(keep_numeric))\n",
    "                                                      \n",
    "print(df3)"
   ]
  },
  {
   "cell_type": "code",
   "execution_count": null,
   "id": "b809685a",
   "metadata": {},
   "outputs": [],
   "source": [
    "# 10) Check for, and delete blanks \n",
    "blank_check = df3.isna().any()\n",
    "columns_with_missing_values = blank_check[blank_check].index.tolist()\n",
    "for column in columns_with_missing_values:\n",
    "    df3[column].fillna(0, inplace=True)\n",
    "\n",
    "for column in columns_with_missing_values:\n",
    "    print(df3[df3[column].isna()])\n",
    "\n",
    "df4 = df3[(df3[columns_with_missing_values] != 0).any(axis=1)]\n",
    "print(df4)"
   ]
  },
  {
   "cell_type": "code",
   "execution_count": null,
   "id": "5a5adbc8",
   "metadata": {},
   "outputs": [],
   "source": [
    "# 11) Re-name and Re-order columns\n",
    "df4 = df4.rename(columns={'Diesel Tariff': 'Diesel Tariff (£)', 'Non-diesel Tariff': 'Non-diesel Tariff (£)'})\n",
    "df5 = df4[['Restriction Type','Parking Spaces','Road Name','Postcode','Non-diesel Tariff (£)','Diesel Tariff (£)','Unique Identifier']]\n",
    "df5 = df5.sort_values(by='Road Name')\n",
    "df5 = df5.reset_index(drop=True)\n",
    "print(df5)"
   ]
  },
  {
   "cell_type": "code",
   "execution_count": null,
   "id": "905ad824",
   "metadata": {},
   "outputs": [],
   "source": [
    "# 12) Save as new, cleaned CSV file\n",
    "df5.to_csv('CLEANED_Parking_Bays_20240222.csv',index=False)"
   ]
  }
 ],
 "metadata": {
  "kernelspec": {
   "display_name": "Python 3 (ipykernel)",
   "language": "python",
   "name": "python3"
  },
  "language_info": {
   "codemirror_mode": {
    "name": "ipython",
    "version": 3
   },
   "file_extension": ".py",
   "mimetype": "text/x-python",
   "name": "python",
   "nbconvert_exporter": "python",
   "pygments_lexer": "ipython3",
   "version": "3.10.4"
  }
 },
 "nbformat": 4,
 "nbformat_minor": 5
}
